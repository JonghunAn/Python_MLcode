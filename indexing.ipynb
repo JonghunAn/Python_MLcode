{
 "cells": [
  {
   "cell_type": "code",
   "execution_count": 12,
   "id": "c605426b",
   "metadata": {},
   "outputs": [
    {
     "name": "stdout",
     "output_type": "stream",
     "text": [
      "A shape =  (3, 2)\n",
      "[[10 20]\n",
      " [30 40]\n",
      " [50 60]]\n",
      "A[0,0]== 10\n",
      "A[:,0]== [10 30 50]\n",
      "A[0:-1,1:2]== [[20]\n",
      " [40]]\n",
      "A[:,:]== [[10 20]\n",
      " [30 40]\n",
      " [50 60]]\n",
      "[[10 20]\n",
      " [30 40]\n",
      " [50 60]]\n"
     ]
    }
   ],
   "source": [
    "import numpy as np\n",
    "\n",
    "A = np.array([[10,20],[30,40],[50,60]])\n",
    "\n",
    "print('A shape = ', A.shape)\n",
    "print(A)\n",
    "\n",
    "print(\"A[0,0]==\", A[0,0])\n",
    "#행열 단위 출력\n",
    "print(\"A[:,0]==\", A[:,0])\n",
    "#행 단위 출력\n",
    "print(\"A[0:-1,1:2]==\",A[0:-1,1:2])\n",
    "#각 행열 단위에 맞는 모든 np 출력\n",
    "print(\"A[:,:]==\", A[:,:])\n",
    "#모두 출력"
   ]
  },
  {
   "cell_type": "code",
   "execution_count": 7,
   "id": "035e24de",
   "metadata": {},
   "outputs": [
    {
     "name": "stdout",
     "output_type": "stream",
     "text": [
      "2\n",
      "(3, 3)\n",
      "[12 15 18]\n",
      "[ 6 15 24]\n",
      "\n",
      "[[2.71828183e+00 7.38905610e+00 2.00855369e+01]\n",
      " [5.45981500e+01 1.48413159e+02 4.03428793e+02]\n",
      " [1.09663316e+03 2.98095799e+03 8.10308393e+03]]\n",
      "[[0.         0.69314718 1.09861229]\n",
      " [1.38629436 1.60943791 1.79175947]\n",
      " [1.94591015 2.07944154 2.19722458]]\n"
     ]
    }
   ],
   "source": [
    "import numpy as np\n",
    "\n",
    "arr1=np.array([[1,2,3],[4,5,6],[7,8,9]])\n",
    "\n",
    "print(arr1.ndim)\n",
    "print(arr1.shape)\n",
    "print(np.sum(arr1, axis=0))\n",
    "print(np.sum(arr1, axis=1))\n",
    "print(\"\")\n",
    "\n",
    "print(np.exp(arr1))\n",
    "print(np.log(arr1))"
   ]
  },
  {
   "cell_type": "code",
   "execution_count": null,
   "id": "4432a7ae",
   "metadata": {},
   "outputs": [],
   "source": []
  }
 ],
 "metadata": {
  "kernelspec": {
   "display_name": "Python 3",
   "language": "python",
   "name": "python3"
  },
  "language_info": {
   "codemirror_mode": {
    "name": "ipython",
    "version": 3
   },
   "file_extension": ".py",
   "mimetype": "text/x-python",
   "name": "python",
   "nbconvert_exporter": "python",
   "pygments_lexer": "ipython3",
   "version": "3.9.2"
  }
 },
 "nbformat": 4,
 "nbformat_minor": 5
}
