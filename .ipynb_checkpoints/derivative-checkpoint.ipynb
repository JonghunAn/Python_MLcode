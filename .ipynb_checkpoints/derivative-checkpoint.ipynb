{
 "cells": [
  {
   "cell_type": "code",
   "execution_count": 1,
   "id": "f7f9f628",
   "metadata": {},
   "outputs": [],
   "source": [
    "#수치미분 1차버전\n",
    "def numerical_derivative(f,x):\n",
    "    delta_x = 1e-4\n",
    "    return(f(x+delta_x)-f(x-delta_x))/(2*delta_x)"
   ]
  },
  {
   "cell_type": "markdown",
   "id": "c7fde85e",
   "metadata": {},
   "source": [
    "![nn](./img01.png)"
   ]
  },
  {
   "cell_type": "code",
   "execution_count": 7,
   "id": "f4d5d5ed",
   "metadata": {},
   "outputs": [
    {
     "name": "stdout",
     "output_type": "stream",
     "text": [
      "result myfunc1=  6.000000000012662\n",
      "result myfunc2=  66.50150507518049\n"
     ]
    }
   ],
   "source": [
    "import numpy as np\n",
    "\n",
    "def my_func1(x):\n",
    "    return x**2;\n",
    "\n",
    "def my_func2(x):\n",
    "    return 3*x*(np.exp(x))\n",
    "\n",
    "def numerical_derivative(f,x):\n",
    "    delta_x = 1e-4\n",
    "    return(f(x+delta_x)-f(x-delta_x))/(2*delta_x)\n",
    "\n",
    "result = numerical_derivative(my_func1,3)\n",
    "print(\"result myfunc1= \",result)\n",
    "result2 = numerical_derivative(my_func2,2)\n",
    "print(\"result myfunc2= \",result2)\n"
   ]
  },
  {
   "cell_type": "code",
   "execution_count": 13,
   "id": "4e522653",
   "metadata": {},
   "outputs": [
    {
     "name": "stdout",
     "output_type": "stream",
     "text": [
      "debug 1. initial Input Variable = [1. 2.]\n",
      "debug 2. Initial Input grad = [0. 0.]\n",
      "debug 3. idx = (0,) x[idx] = 1.0\n",
      "debug 4. grad[idx] = 7.999999999990237\n",
      "debug 5. grad = [8. 0.]\n",
      "===================================\n",
      "debug 3. idx = (1,) x[idx] = 2.0\n",
      "debug 4. grad[idx] = 15.000000010019221\n",
      "debug 5. grad = [ 8.         15.00000001]\n",
      "===================================\n",
      "[ 8.         15.00000001]\n"
     ]
    }
   ],
   "source": [
    "import numpy as np\n",
    "\n",
    "\n",
    "def numerical_derivative(f,x):\n",
    "    delta_x = 1e-4\n",
    "    grad = np.zeros_like(x)\n",
    "    #input 값과 동일한 1로 초기된 numpy shape 생성\n",
    "    \n",
    "    print(\"debug 1. initial Input Variable =\", x)\n",
    "    print(\"debug 2. Initial Input grad =\", grad)\n",
    "    \n",
    "    it =np.nditer(x, flags=['multi_index'],op_flags=['readwrite'])\n",
    "\n",
    "    while not it.finished:\n",
    "        idx = it.multi_index\n",
    "\n",
    "        print(\"debug 3. idx =\", idx, \"x[idx] =\", x[idx])\n",
    "        \n",
    "        temp_val = x[idx]\n",
    "        x[idx] = float(temp_val)+delta_x\n",
    "        fx1 =f(x)\n",
    "\n",
    "        x[idx] = temp_val-delta_x;\n",
    "        fx2=f(x)\n",
    "        grad[idx] = (fx1-fx2)/(2*delta_x)\n",
    "        \n",
    "        print(\"debug 4. grad[idx] =\", grad[idx])\n",
    "        print(\"debug 5. grad =\", grad)\n",
    "        print(\"===================================\")\n",
    "\n",
    "        x[idx] = temp_val\n",
    "        it.iternext()\n",
    "\n",
    "    return grad\n",
    "\n",
    "def my_func1(input_obj):\n",
    "    x=input_obj[0]\n",
    "    y=input_obj[1]\n",
    "    return (2*x+3*x*y+np.power(y,3))\n",
    "\n",
    "input = np.array([1.0, 2.0])\n",
    "\n",
    "\n",
    "result = numerical_derivative(my_func1,input)\n",
    "\n",
    "print(result)"
   ]
  },
  {
   "cell_type": "code",
   "execution_count": 2,
   "id": "dc03dd82",
   "metadata": {},
   "outputs": [
    {
     "name": "stdout",
     "output_type": "stream",
     "text": [
      "[ 8.         15.00000001]\n"
     ]
    }
   ],
   "source": [
    "import numpy as np\n",
    "\n",
    "def numerical_derivate1(f,x):\n",
    "    delta_x = 1e-4\n",
    "    grad = np.zeros_like(x)\n",
    "    \n",
    "    it = np.nditer(x,flags=['multi_index'],op_flags=['readwrite'])\n",
    "    \n",
    "    while not it.finished:\n",
    "        idx = it.multi_index\n",
    "        \n",
    "        tmp_val = x[idx]\n",
    "        x[idx] = float(tmp_val)+delta_x\n",
    "        fx1 = f(x)\n",
    "        \n",
    "        x[idx] = float(tmp_val)-delta_x\n",
    "        fx2 = f(x)\n",
    "        grad[idx] = (fx1-fx2)/(2*delta_x)\n",
    "        \n",
    "        x[idx] = tmp_val\n",
    "        it.iternext()\n",
    "        \n",
    "    return grad\n",
    "\n",
    "def func2(W):\n",
    "    x = W[0]\n",
    "    y = W[1]\n",
    "    return (2*x+3*x*y+np.power(y,3))\n",
    "\n",
    "f = lambda W : func2(W)\n",
    "ret_val = numerical_derivate1(f,np.array([1.0,2.0]))\n",
    "\n",
    "print(ret_val)"
   ]
  }
 ],
 "metadata": {
  "kernelspec": {
   "display_name": "Python 3",
   "language": "python",
   "name": "python3"
  },
  "language_info": {
   "codemirror_mode": {
    "name": "ipython",
    "version": 3
   },
   "file_extension": ".py",
   "mimetype": "text/x-python",
   "name": "python",
   "nbconvert_exporter": "python",
   "pygments_lexer": "ipython3",
   "version": "3.9.2"
  }
 },
 "nbformat": 4,
 "nbformat_minor": 5
}
