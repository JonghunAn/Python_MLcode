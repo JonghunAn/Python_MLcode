{
 "cells": [
  {
   "cell_type": "code",
   "execution_count": 1,
   "id": "b7aa0f61",
   "metadata": {},
   "outputs": [
    {
     "name": "stdout",
     "output_type": "stream",
     "text": [
      "ret1= 100\n",
      "ret2= 100\n"
     ]
    }
   ],
   "source": [
    "def square(x):\n",
    "    return x*x\n",
    "\n",
    "f = lambda x : x*x\n",
    "\n",
    "x=10\n",
    "ret1 = square(x)\n",
    "print('ret1=',ret1)\n",
    "\n",
    "ret2 = f(x)\n",
    "print('ret2=',ret2)"
   ]
  },
  {
   "cell_type": "markdown",
   "id": "09b893ff",
   "metadata": {},
   "source": [
    "## 람다 -> #define f(x) (x+100) 처리됨  "
   ]
  },
  {
   "cell_type": "code",
   "execution_count": 3,
   "id": "ac5e6571",
   "metadata": {},
   "outputs": [
    {
     "name": "stdout",
     "output_type": "stream",
     "text": [
      "input1 == 100 , input2 == 200\n",
      "hello python\n"
     ]
    }
   ],
   "source": [
    "def print_hello():\n",
    "    print(\"hello python\")\n",
    "    \n",
    "def test_lambda(s,t):\n",
    "    print(\"input1 ==\",s,\", input2 ==\",t)\n",
    "\n",
    "s=100\n",
    "t=200\n",
    "\n",
    "fx = lambda x, y : test_lambda(s,t)\n",
    "fy = lambda x, y : print_hello()\n",
    "\n",
    "fx(500,1000)\n",
    "fy(300,600)"
   ]
  },
  {
   "cell_type": "code",
   "execution_count": 24,
   "id": "3b1d1e4d",
   "metadata": {},
   "outputs": [
    {
     "name": "stdout",
     "output_type": "stream",
     "text": [
      "0\n",
      "PARK is initialized\n",
      "PARKis working inABCDEF\n",
      "PARK is sleeping\n",
      "PARK ji\n",
      "\n",
      " ('PARK', 'ji')\n"
     ]
    }
   ],
   "source": [
    "class Person:\n",
    "    \n",
    "    count = 0\n",
    "    \n",
    "    \n",
    "    \n",
    "    def __init__(self,name,name2):\n",
    "        self.name = name\n",
    "        self.__name2 = name2\n",
    "        #private member 변수\n",
    "        \n",
    "        print(self.name+\" is initialized\")\n",
    "        \n",
    "    def __printNames(self):\n",
    "        print(self.name,self.__name2)\n",
    "        #private method 함수\n",
    "        \n",
    "    def getNames(self):\n",
    "        self.__printNames()\n",
    "        #private method call\n",
    "        return self.name, self.__name2\n",
    "        \n",
    "    def work(self,company):\n",
    "        print(self.name+\"is working in\"+company)\n",
    "    \n",
    "    def sleep(self):\n",
    "        print(self.name+\" is sleeping\")\n",
    "\n",
    "    @classmethod\n",
    "    def getCount(cls):\n",
    "        return cls.count\n",
    "    #클래스 메서드는 무조건 첫 arg로 class 나타내는 cls 변수 전달\n",
    "    \n",
    "    \n",
    "# 클래스 변수 접근\n",
    "\n",
    "print(Person.getCount())\n",
    "#class method 접근\n",
    "\n",
    "obj = Person(\"PARK\",\"ji\")\n",
    "obj.work(\"ABCDEF\")\n",
    "obj.sleep()\n",
    "\n",
    "#call private method to public method\n",
    "print(\"\\n\",obj.getNames())\n",
    "#print(obj._printNames())"
   ]
  },
  {
   "cell_type": "markdown",
   "id": "01a309a6",
   "metadata": {},
   "source": [
    "## 파이썬 메서드의 첫번째 입력 파라메터로서 자기자신을 나타내는 self 반드시 써야함"
   ]
  },
  {
   "cell_type": "code",
   "execution_count": 1,
   "id": "77d2f9c7",
   "metadata": {},
   "outputs": [
    {
     "name": "stdout",
     "output_type": "stream",
     "text": [
      "C shape =  (3,)\n",
      "C ndim =  1\n",
      "C shape =  (1, 3)\n",
      "C ndim =  2\n",
      "C shape =  (1, 3)\n",
      "C ndim =  2 \n",
      "\n",
      "A shape =  (6,)\n",
      "A ndim =  1\n",
      "[1 2 3 4 5 6]\n",
      "A shape =  (2, 3)\n",
      "A ndim =  2\n",
      "[[1 2 3]\n",
      " [4 5 6]] \n",
      "\n",
      "\n",
      "[[1 2]\n",
      " [3 4]] \n",
      "\n",
      "broad cast\n",
      "[[1. 2.]\n",
      " [3. 4.]] \n",
      "\n",
      "\n",
      "[[1 2]\n",
      " [3 4]\n",
      " [5 6]] 2\n",
      "A행렬\n",
      "\n",
      "전치행렬로 변환\n",
      " 2\n",
      "\n",
      "C shape : (2, 2)\n",
      "[[-22 -28]\n",
      " [-49 -64]]\n"
     ]
    }
   ],
   "source": [
    "import numpy as np\n",
    "\n",
    "C = np.array([1,2,3])\n",
    "print(\"C shape = \",C.shape)\n",
    "print(\"C ndim = \",C.ndim)\n",
    "#행렬화 전\n",
    "C = C.reshape(1,3)\n",
    "print(\"C shape = \",C.shape)\n",
    "print(\"C ndim = \",C.ndim)\n",
    "C = C.reshape(-1,3)\n",
    "print(\"C shape = \",C.shape)\n",
    "print(\"C ndim = \",C.ndim,\"\\n\")\n",
    "\n",
    "A = np.array([1,2,3,4,5,6])\n",
    "print(\"A shape = \",A.shape)\n",
    "print(\"A ndim = \",A.ndim)\n",
    "print(A)\n",
    "A= A.reshape(-1,3)\n",
    "print(\"A shape = \",A.shape)\n",
    "print(\"A ndim = \",A.ndim)\n",
    "print(A,\"\\n\\n\")\n",
    "\n",
    "A = np.array([[1,2],[3,4]])\n",
    "print(A,\"\\n\")\n",
    "\n",
    "A=A/5\n",
    "A=A*5 \n",
    "#곱은 불가\n",
    "\n",
    "print(\"broad cast\")\n",
    "print(A,\"\\n\\n\")\n",
    "\n",
    "A = np.array([[1,2],[3,4],[5,6]])\n",
    "B = A.T #전치행렬\n",
    "\n",
    "print(A, A.ndim)\n",
    "print(\"A행렬\\n\\n전치행렬로 변환\\n\",B.ndim)\n",
    "\n",
    "\n",
    "A= np.array([[1,2,3],[4,5,6]])\n",
    "B= np.array([[-1,-2],[-3,-4],[-5,-6]])\n",
    "\n",
    "C= np.dot(A,B)\n",
    "print(\"\\nC shape :\",C.shape)\n",
    "print(C)"
   ]
  },
  {
   "cell_type": "code",
   "execution_count": null,
   "id": "34254741",
   "metadata": {},
   "outputs": [],
   "source": []
  },
  {
   "cell_type": "code",
   "execution_count": null,
   "id": "cb0c6a49",
   "metadata": {},
   "outputs": [],
   "source": []
  }
 ],
 "metadata": {
  "kernelspec": {
   "display_name": "Python 3",
   "language": "python",
   "name": "python3"
  },
  "language_info": {
   "codemirror_mode": {
    "name": "ipython",
    "version": 3
   },
   "file_extension": ".py",
   "mimetype": "text/x-python",
   "name": "python",
   "nbconvert_exporter": "python",
   "pygments_lexer": "ipython3",
   "version": "3.9.2"
  }
 },
 "nbformat": 4,
 "nbformat_minor": 5
}
