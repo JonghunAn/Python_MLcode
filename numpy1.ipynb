{
 "cells": [
  {
   "cell_type": "code",
   "execution_count": 1,
   "id": "b7aa0f61",
   "metadata": {},
   "outputs": [
    {
     "name": "stdout",
     "output_type": "stream",
     "text": [
      "ret1= 100\n",
      "ret2= 100\n"
     ]
    }
   ],
   "source": [
    "def square(x):\n",
    "    return x*x\n",
    "\n",
    "f = lambda x : x*x\n",
    "\n",
    "x=10\n",
    "ret1 = square(x)\n",
    "print('ret1=',ret1)\n",
    "\n",
    "ret2 = f(x)\n",
    "print('ret2=',ret2)"
   ]
  },
  {
   "cell_type": "markdown",
   "id": "09b893ff",
   "metadata": {},
   "source": [
    "## 람다 -> #define f(x) (x+100) 처리됨  "
   ]
  },
  {
   "cell_type": "code",
   "execution_count": 3,
   "id": "ac5e6571",
   "metadata": {},
   "outputs": [
    {
     "name": "stdout",
     "output_type": "stream",
     "text": [
      "input1 == 100 , input2 == 200\n",
      "hello python\n"
     ]
    }
   ],
   "source": [
    "def print_hello():\n",
    "    print(\"hello python\")\n",
    "    \n",
    "def test_lambda(s,t):\n",
    "    print(\"input1 ==\",s,\", input2 ==\",t)\n",
    "\n",
    "s=100\n",
    "t=200\n",
    "\n",
    "fx = lambda x, y : test_lambda(s,t)\n",
    "fy = lambda x, y : print_hello()\n",
    "\n",
    "fx(500,1000)\n",
    "fy(300,600)"
   ]
  },
  {
   "cell_type": "code",
   "execution_count": 24,
   "id": "3b1d1e4d",
   "metadata": {},
   "outputs": [
    {
     "name": "stdout",
     "output_type": "stream",
     "text": [
      "0\n",
      "PARK is initialized\n",
      "PARKis working inABCDEF\n",
      "PARK is sleeping\n",
      "PARK ji\n",
      "\n",
      " ('PARK', 'ji')\n"
     ]
    }
   ],
   "source": [
    "class Person:\n",
    "    \n",
    "    count = 0\n",
    "    \n",
    "    \n",
    "    \n",
    "    def __init__(self,name,name2):\n",
    "        self.name = name\n",
    "        self.__name2 = name2\n",
    "        #private member 변수\n",
    "        \n",
    "        print(self.name+\" is initialized\")\n",
    "        \n",
    "    def __printNames(self):\n",
    "        print(self.name,self.__name2)\n",
    "        #private method 함수\n",
    "        \n",
    "    def getNames(self):\n",
    "        self.__printNames()\n",
    "        #private method call\n",
    "        return self.name, self.__name2\n",
    "        \n",
    "    def work(self,company):\n",
    "        print(self.name+\"is working in\"+company)\n",
    "    \n",
    "    def sleep(self):\n",
    "        print(self.name+\" is sleeping\")\n",
    "\n",
    "    @classmethod\n",
    "    def getCount(cls):\n",
    "        return cls.count\n",
    "    #클래스 메서드는 무조건 첫 arg로 class 나타내는 cls 변수 전달\n",
    "    \n",
    "    \n",
    "# 클래스 변수 접근\n",
    "\n",
    "print(Person.getCount())\n",
    "#class method 접근\n",
    "\n",
    "obj = Person(\"PARK\",\"ji\")\n",
    "obj.work(\"ABCDEF\")\n",
    "obj.sleep()\n",
    "\n",
    "#call private method to public method\n",
    "print(\"\\n\",obj.getNames())\n",
    "#print(obj._printNames())"
   ]
  },
  {
   "cell_type": "markdown",
   "id": "01a309a6",
   "metadata": {},
   "source": [
    "## 파이썬 메서드의 첫번째 입력 파라메터로서 자기자신을 나타내는 self 반드시 써야함"
   ]
  },
  {
   "cell_type": "code",
   "execution_count": 1,
   "id": "77d2f9c7",
   "metadata": {},
   "outputs": [
    {
     "name": "stdout",
     "output_type": "stream",
     "text": [
      "C shape =  (3,)\n",
      "C ndim =  1\n",
      "C shape =  (1, 3)\n",
      "C ndim =  2\n",
      "C shape =  (1, 3)\n",
      "C ndim =  2 \n",
      "\n",
      "A shape =  (6,)\n",
      "A ndim =  1\n",
      "[1 2 3 4 5 6]\n",
      "A shape =  (2, 3)\n",
      "A ndim =  2\n",
      "[[1 2 3]\n",
      " [4 5 6]] \n",
      "\n",
      "\n",
      "[[1 2]\n",
      " [3 4]] \n",
      "\n",
      "broad cast\n",
      "[[1. 2.]\n",
      " [3. 4.]] \n",
      "\n",
      "\n",
      "[[1 2]\n",
      " [3 4]\n",
      " [5 6]] 2\n",
      "A행렬\n",
      "\n",
      "전치행렬로 변환\n",
      " 2\n",
      "\n",
      "C shape : (2, 2)\n",
      "[[-22 -28]\n",
      " [-49 -64]]\n"
     ]
    }
   ],
   "source": [
    "import numpy as np\n",
    "\n",
    "C = np.array([1,2,3])\n",
    "print(\"C shape = \",C.shape)\n",
    "print(\"C ndim = \",C.ndim)\n",
    "#행렬화 전\n",
    "C = C.reshape(1,3)\n",
    "print(\"C shape = \",C.shape)\n",
    "print(\"C ndim = \",C.ndim)\n",
    "C = C.reshape(-1,3)\n",
    "print(\"C shape = \",C.shape)\n",
    "print(\"C ndim = \",C.ndim,\"\\n\")\n",
    "\n",
    "A = np.array([1,2,3,4,5,6])\n",
    "print(\"A shape = \",A.shape)\n",
    "print(\"A ndim = \",A.ndim)\n",
    "print(A)\n",
    "A= A.reshape(-1,3)\n",
    "print(\"A shape = \",A.shape)\n",
    "print(\"A ndim = \",A.ndim)\n",
    "print(A,\"\\n\\n\")\n",
    "\n",
    "A = np.array([[1,2],[3,4]])\n",
    "print(A,\"\\n\")\n",
    "\n",
    "A=A/5\n",
    "A=A*5 \n",
    "#곱은 불가\n",
    "\n",
    "print(\"broad cast\")\n",
    "print(A,\"\\n\\n\")\n",
    "\n",
    "A = np.array([[1,2],[3,4],[5,6]])\n",
    "B = A.T #전치행렬\n",
    "\n",
    "print(A, A.ndim)\n",
    "print(\"A행렬\\n\\n전치행렬로 변환\\n\",B.ndim)\n",
    "\n",
    "\n",
    "A= np.array([[1,2,3],[4,5,6]])\n",
    "B= np.array([[-1,-2],[-3,-4],[-5,-6]])\n",
    "\n",
    "C= np.dot(A,B)\n",
    "print(\"\\nC shape :\",C.shape)\n",
    "print(C)"
   ]
  },
  {
   "cell_type": "code",
   "execution_count": 8,
   "id": "34254741",
   "metadata": {},
   "outputs": [
    {
     "name": "stdout",
     "output_type": "stream",
     "text": [
      "(1, 3)\n",
      "(3, 1)\n",
      "\n",
      "\n",
      "[[2 3 4]\n",
      " [3 4 5]\n",
      " [4 5 6]]\n",
      "\n",
      "\n",
      "[[1 2 3]\n",
      " [2 4 6]\n",
      " [3 6 9]]\n",
      "\n",
      "\n",
      "[[ 3  6  9]\n",
      " [ 6  9 12]\n",
      " [ 9 12 15]]\n",
      "\n",
      "[[ 3  5  7  9]\n",
      " [ 4  6  8 10]\n",
      " [ 5  7  9 11]\n",
      " [ 6  8 10 12]]\n"
     ]
    }
   ],
   "source": [
    "import numpy as np\n",
    "\n",
    "A = np.array([1,2,3]).reshape(1,3)\n",
    "\n",
    "B= np.array([1,2,3]).reshape(1,3)\n",
    "B=B.T\n",
    "\n",
    "print(A.shape)\n",
    "print(B.shape)\n",
    "\n",
    "C= A+B\n",
    "print(\"\\n\")\n",
    "print(C)\n",
    "print(\"\\n\")\n",
    "\n",
    "D = A*B\n",
    "print(D)\n",
    "print(\"\\n\")\n",
    "\n",
    "A = np.array([[1,2,3],[4,5,6],[7,8,9]])\n",
    "B = np.array([2,4,6]).reshape(-1,3)\n",
    "\n",
    "print(A+B)\n",
    "print()\n",
    "A = np.array([1,2,3,4]).reshape(-1,1)\n",
    "B = np.array([2,4,6,8]).reshape(-1,4)\n",
    "print(A+B)"
   ]
  },
  {
   "cell_type": "code",
   "execution_count": 48,
   "id": "cb0c6a49",
   "metadata": {},
   "outputs": [
    {
     "name": "stdout",
     "output_type": "stream",
     "text": [
      "(3, 2)\n",
      "\n",
      "\n",
      "[[10 20]\n",
      " [30 40]\n",
      " [50 60]]\n",
      "10\n",
      "60\n",
      "[10 30 50]\n",
      "[20 40 60]\n",
      "[20 40]\n"
     ]
    }
   ],
   "source": [
    "A = np.array([[10,20],[30,40],[50,60]])\n",
    "print(A.shape)\n",
    "print(\"\\n\")\n",
    "print(A[:,:])\n",
    "print(A[0,0])\n",
    "print(A[2,1])\n",
    "print(A[:,0])\n",
    "print(A[:,1])\n",
    "print(A[:-1,1])\n"
   ]
  },
  {
   "cell_type": "code",
   "execution_count": 50,
   "id": "96e289ae",
   "metadata": {},
   "outputs": [
    {
     "name": "stdout",
     "output_type": "stream",
     "text": [
      "index =  (0, 0) values =  10\n",
      "index =  (0, 1) values =  20\n",
      "index =  (0, 2) values =  30\n",
      "index =  (0, 3) values =  40\n",
      "index =  (1, 0) values =  50\n",
      "index =  (1, 1) values =  60\n",
      "index =  (1, 2) values =  70\n",
      "index =  (1, 3) values =  80\n"
     ]
    }
   ],
   "source": [
    "import numpy as np\n",
    "A = np.array([[10,20,30,40],[50,60,70,80]])\n",
    "\n",
    "it = np.nditer(A, flags=[\"multi_index\"],op_flags=['readwrite'])\n",
    "\n",
    "while not it.finished:\n",
    "    idx= it.multi_index\n",
    "    print(\"index = \",idx,\"values = \",A[idx])\n",
    "    it.iternext()"
   ]
  },
  {
   "cell_type": "code",
   "execution_count": 53,
   "id": "b2fde1be",
   "metadata": {},
   "outputs": [
    {
     "name": "stdout",
     "output_type": "stream",
     "text": [
      "[[0.35257173 0.92764775 0.58889007]]\n",
      "[[0.66538788 0.71994785 0.34050139 0.98323225]\n",
      " [0.78055096 0.26735261 0.90144055 0.44195981]\n",
      " [0.64336021 0.19413862 0.90584588 0.33754625]]\n",
      "[[1. 1. 1.]]\n",
      "[[0. 0. 0.]]\n"
     ]
    }
   ],
   "source": [
    "number1 = np.random.rand(1,3)\n",
    "number2 = np.random.rand(3,4)\n",
    "print(number1)\n",
    "print(number2)\n",
    "number3= np.ones([1,3])\n",
    "number4 = np.zeros([1,3])\n",
    "print(number3)\n",
    "print(number4)"
   ]
  },
  {
   "cell_type": "code",
   "execution_count": 64,
   "id": "16f6a694",
   "metadata": {},
   "outputs": [
    {
     "name": "stdout",
     "output_type": "stream",
     "text": [
      "2 (25, 3)\n",
      "2 (25, 1)\n"
     ]
    }
   ],
   "source": [
    "import numpy as np\n",
    "\n",
    "load_data = np.loadtxt('./test.csv', delimiter=',',dtype=np.float32)\n",
    "\n",
    "x_data = load_data[:,0:-1]\n",
    "t_data = load_data[:,[-1]]\n",
    "print(x_data.ndim,x_data.shape)\n",
    "print(t_data.ndim,t_data.shape)"
   ]
  },
  {
   "cell_type": "code",
   "execution_count": 70,
   "id": "ed0ff641",
   "metadata": {},
   "outputs": [
    {
     "name": "stdout",
     "output_type": "stream",
     "text": [
      "[[10 20 30]\n",
      " [40 50 60]\n",
      " [70 80 90]]\n",
      "\n",
      "[[10 20 50]\n",
      " [30 40 60]]\n"
     ]
    }
   ],
   "source": [
    "A = np.array([[10,20,30],[40,50,60]])\n",
    "row_add = np.array([70,80,90]).reshape(1,3)\n",
    "A = np.concatenate((A,row_add),axis=0)\n",
    "print(A)\n",
    "print()\n",
    "\n",
    "\n",
    "B = np.array([[10,20],[30,40]])\n",
    "col_add = np.array([50,60]).reshape(-1,1)\n",
    "B = np.concatenate((B,col_add),axis=1)\n",
    "print(B)"
   ]
  },
  {
   "cell_type": "code",
   "execution_count": 71,
   "id": "5cd5c716",
   "metadata": {},
   "outputs": [
    {
     "name": "stdout",
     "output_type": "stream",
     "text": [
      "[2 5 8]\n",
      "[0 2 3]\n",
      "[6 3 8]\n"
     ]
    }
   ],
   "source": [
    "A= np.array([[2,4,6],[1,2,3],[0,5,8]])\n",
    "\n",
    "print(np.max(A,axis=0))\n",
    "print(np.min(A,axis=0))\n",
    "print(np.max(A,axis=1))"
   ]
  },
  {
   "cell_type": "code",
   "execution_count": null,
   "id": "f2f675fc",
   "metadata": {},
   "outputs": [],
   "source": []
  }
 ],
 "metadata": {
  "kernelspec": {
   "display_name": "Python 3",
   "language": "python",
   "name": "python3"
  },
  "language_info": {
   "codemirror_mode": {
    "name": "ipython",
    "version": 3
   },
   "file_extension": ".py",
   "mimetype": "text/x-python",
   "name": "python",
   "nbconvert_exporter": "python",
   "pygments_lexer": "ipython3",
   "version": "3.9.2"
  }
 },
 "nbformat": 4,
 "nbformat_minor": 5
}
