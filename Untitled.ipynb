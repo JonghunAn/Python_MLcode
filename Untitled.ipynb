{
 "cells": [
  {
   "cell_type": "code",
   "execution_count": 54,
   "id": "bf35842e",
   "metadata": {},
   "outputs": [
    {
     "name": "stdout",
     "output_type": "stream",
     "text": [
      "['derivative.ipynb', 'numpy1.ipynb', 'iter_rand_max.ipynb', 'indexing.ipynb', 'Untitled.ipynb', 'matplotlib.ipynb', 'test.csv', 'basic.ipynb', 'test.py', 'img01.png']\n",
      "['test.py']\n"
     ]
    },
    {
     "data": {
      "text/plain": [
       "list"
      ]
     },
     "execution_count": 54,
     "metadata": {},
     "output_type": "execute_result"
    }
   ],
   "source": [
    "import glob\n",
    "\n",
    "allfiles = glob.glob('*')\n",
    "print(allfiles)\n",
    "print(type(allfiles))\n",
    "allfiles = glob.glob('*.py')\n",
    "print(allfiles)\n",
    "print(type(allfiles))"
   ]
  },
  {
   "cell_type": "code",
   "execution_count": 55,
   "id": "eadbe42e",
   "metadata": {},
   "outputs": [
    {
     "name": "stdout",
     "output_type": "stream",
     "text": [
      "[(1, 'a'), (2, 'b'), (3, 'c'), (4, 'd'), (5, 'e')]\n",
      "1 and  a\n",
      "2 and  b\n",
      "3 and  c\n",
      "4 and  d\n",
      "5 and  e\n"
     ]
    }
   ],
   "source": [
    "a=[1,2,3,4,5]\n",
    "b=['a','b','c','d','e']\n",
    "\n",
    "c = list(zip(a,b))\n",
    "print(c)\n",
    "\n",
    "for x,y in zip(a,b):\n",
    "    print(x, \"and \",y)"
   ]
  },
  {
   "cell_type": "code",
   "execution_count": 4,
   "id": "efe89d5c",
   "metadata": {},
   "outputs": [
    {
     "data": {
      "text/plain": [
       "<zip at 0x115d57680>"
      ]
     },
     "execution_count": 4,
     "metadata": {},
     "output_type": "execute_result"
    }
   ],
   "source": [
    "zip([1,2,3],[4,5,6])"
   ]
  },
  {
   "cell_type": "code",
   "execution_count": 5,
   "id": "301893e4",
   "metadata": {},
   "outputs": [
    {
     "data": {
      "text/plain": [
       "[(1, 4), (2, 5), (3, 6)]"
      ]
     },
     "execution_count": 5,
     "metadata": {},
     "output_type": "execute_result"
    }
   ],
   "source": [
    "list(zip([1,2,3],[4,5,6]))"
   ]
  },
  {
   "cell_type": "code",
   "execution_count": 6,
   "id": "b37e767a",
   "metadata": {},
   "outputs": [
    {
     "data": {
      "text/plain": [
       "[('a', '?'), ('b', '??')]"
      ]
     },
     "execution_count": 6,
     "metadata": {},
     "output_type": "execute_result"
    }
   ],
   "source": [
    "list(zip(['a','b'],[\"?\",\"??\"]))"
   ]
  },
  {
   "cell_type": "code",
   "execution_count": 58,
   "id": "fa2932b9",
   "metadata": {},
   "outputs": [
    {
     "name": "stdout",
     "output_type": "stream",
     "text": [
      "(0, 10)\n",
      "(1, 20)\n",
      "(2, 30)\n",
      "(3, 40)\n",
      "(4, 50)\n",
      "0 10\n",
      "1 20\n",
      "2 30\n",
      "3 40\n",
      "4 50\n",
      "\n"
     ]
    },
    {
     "ename": "NameError",
     "evalue": "name 'dix' is not defined",
     "output_type": "error",
     "traceback": [
      "\u001b[0;31m---------------------------------------------------------------------------\u001b[0m",
      "\u001b[0;31mNameError\u001b[0m                                 Traceback (most recent call last)",
      "\u001b[0;32m<ipython-input-58-4a988dbbdef5>\u001b[0m in \u001b[0;36m<module>\u001b[0;34m\u001b[0m\n\u001b[1;32m     10\u001b[0m \u001b[0;34m\u001b[0m\u001b[0m\n\u001b[1;32m     11\u001b[0m \u001b[0;32mfor\u001b[0m \u001b[0midx\u001b[0m\u001b[0;34m,\u001b[0m\u001b[0mdata\u001b[0m \u001b[0;32min\u001b[0m \u001b[0menumerate\u001b[0m\u001b[0;34m(\u001b[0m\u001b[0mlist_data\u001b[0m\u001b[0;34m,\u001b[0m\u001b[0;36m10\u001b[0m\u001b[0;34m)\u001b[0m\u001b[0;34m:\u001b[0m\u001b[0;34m\u001b[0m\u001b[0;34m\u001b[0m\u001b[0m\n\u001b[0;32m---> 12\u001b[0;31m     \u001b[0mprint\u001b[0m\u001b[0;34m(\u001b[0m\u001b[0mdix\u001b[0m\u001b[0;34m,\u001b[0m \u001b[0mdata\u001b[0m\u001b[0;34m)\u001b[0m\u001b[0;34m\u001b[0m\u001b[0;34m\u001b[0m\u001b[0m\n\u001b[0m",
      "\u001b[0;31mNameError\u001b[0m: name 'dix' is not defined"
     ]
    }
   ],
   "source": [
    "list_data = [10,20,30,40,50]\n",
    "\n",
    "for data in enumerate(list_data):\n",
    "    print(data)\n",
    "\n",
    "for idx,data in enumerate(list_data):\n",
    "    print(idx, data)\n",
    "\n",
    "print()\n",
    "\n",
    "for idx,data in enumerate(list_data,10):\n",
    "    print(dix, data)"
   ]
  },
  {
   "cell_type": "code",
   "execution_count": 6,
   "id": "81cde30b",
   "metadata": {},
   "outputs": [
    {
     "name": "stdout",
     "output_type": "stream",
     "text": [
      "2\n",
      "[[ 73.  80.  75. 152.]\n",
      " [ 93.  88.  93. 185.]\n",
      " [  1.   2.   3.   4.]]\n"
     ]
    }
   ],
   "source": [
    "import numpy as np\n",
    "load_txt = np.loadtxt(\"./test.csv\",delimiter=',',dtype=np.float32)\n",
    "data1 = load_txt[0:2,:]\n",
    "print(data1.ndim)\n",
    "data1 = np.concatenate((data1,np.array([1,2,3,4]).reshape(-1,4)),axis=0)\n",
    "print(data1)"
   ]
  },
  {
   "cell_type": "code",
   "execution_count": 53,
   "id": "75d52ad9",
   "metadata": {},
   "outputs": [
    {
     "name": "stdout",
     "output_type": "stream",
     "text": [
      "2\n",
      "[152. 185.   4.] [3 3 3]\n"
     ]
    }
   ],
   "source": [
    "import numpy as np\n",
    "load_txt = np.loadtxt('test.csv',delimiter=',',dtype=np.float32)\n",
    "data1 = load_txt[0:2,:]\n",
    "print(data1.ndim)\n",
    "data1 = np.concatenate((data1,np.array([1,2,3,4]).reshape(-1,4)),axis=0)\n",
    "\n",
    "max = np.max(data1,axis=1)\n",
    "argmax = np.argmax(data1,axis=1)\n",
    "print(max, argmax)"
   ]
  },
  {
   "cell_type": "code",
   "execution_count": 51,
   "id": "57c77a38",
   "metadata": {},
   "outputs": [
    {
     "name": "stdout",
     "output_type": "stream",
     "text": [
      "4.000000000004\n"
     ]
    }
   ],
   "source": [
    "def decative(f,x):\n",
    "    delta_x = 1e-4\n",
    "    return (f(x+delta_x)-f(x-delta_x))/(2*delta_x)\n",
    "def func1(x):\n",
    "    return x*x;\n",
    "\n",
    "result = decative(func1,2);\n",
    "\n",
    "print(result)"
   ]
  },
  {
   "cell_type": "code",
   "execution_count": 41,
   "id": "3c277fc4",
   "metadata": {},
   "outputs": [
    {
     "name": "stdout",
     "output_type": "stream",
     "text": [
      "[ 8.         15.00000001]\n"
     ]
    }
   ],
   "source": [
    "import numpy as np\n",
    "\n",
    "def numerical_derivative(f,x):\n",
    "    delta_x = 1e-4\n",
    "    grad = np.zeros_like(x)\n",
    "    \n",
    "    it = np.nditer(x, flags=['multi_index'],op_flags=['readwrite'])\n",
    "    \n",
    "    while not it.finished:\n",
    "        idx = it.multi_index\n",
    "        tmp_val = x[idx]\n",
    "        x[idx] = float(tmp_val)+delta_x\n",
    "        fx1 = f(x)\n",
    "        \n",
    "        x[idx] = float(tmp_val)-delta_x\n",
    "        fx2= f(x)\n",
    "        grad[idx] = (fx1-fx2)/(2*delta_x)\n",
    "        \n",
    "        x[idx] = tmp_val\n",
    "        it.iternext()\n",
    "        \n",
    "    return grad\n",
    "\n",
    "def func2(W):\n",
    "    x=W[0]\n",
    "    y=W[1]\n",
    "\n",
    "    return 2*x+3*x*y+np.power(y,3)\n",
    "\n",
    "result = numerical_derivative(func2,np.array([1.0,2.0]))\n",
    "print(result)"
   ]
  },
  {
   "cell_type": "code",
   "execution_count": 49,
   "id": "91e305c3",
   "metadata": {},
   "outputs": [
    {
     "name": "stdout",
     "output_type": "stream",
     "text": [
      "[ 8.         15.00000001 18.        ]\n"
     ]
    }
   ],
   "source": [
    "import numpy as np\n",
    "\n",
    "def numerical_decative(f,x):\n",
    "    delta_x = 1e-4\n",
    "    grad = np.zeros_likes(x)\n",
    "    \n",
    "    it = np.nditer(x,flags=['multi_index'],op_flags=['readwrite'])\n",
    "    \n",
    "    while not it.finished:\n",
    "                idx = it.multi_index\n",
    "                tmp_val = it[idx]\n",
    "                \n",
    "                x[idx] = float(tmp_val)+delta_x\n",
    "                fx1 = f(x)\n",
    "                \n",
    "                x[idx] = float(tmp_val)-delta_x\n",
    "                fx2 = f(x)\n",
    "                \n",
    "                grad = (fx1-fx2)/(2*delta_x)\n",
    "                \n",
    "                x[idx] = tmp_val\n",
    "                it.iternext()\n",
    "                \n",
    "    return grad    \n",
    "    \n",
    "\n",
    "def func2(W):\n",
    "    x=W[0]\n",
    "    y=W[1]\n",
    "    z=W[2]\n",
    "\n",
    "    return 2*x+3*x*y+np.power(y,3)+3*z*z\n",
    "\n",
    "result = numerical_derivative(func2,np.array([1.0,2.0,3.0]))\n",
    "print(result)"
   ]
  },
  {
   "cell_type": "code",
   "execution_count": null,
   "id": "d718b0d8",
   "metadata": {},
   "outputs": [],
   "source": []
  }
 ],
 "metadata": {
  "kernelspec": {
   "display_name": "Python 3",
   "language": "python",
   "name": "python3"
  },
  "language_info": {
   "codemirror_mode": {
    "name": "ipython",
    "version": 3
   },
   "file_extension": ".py",
   "mimetype": "text/x-python",
   "name": "python",
   "nbconvert_exporter": "python",
   "pygments_lexer": "ipython3",
   "version": "3.9.2"
  }
 },
 "nbformat": 4,
 "nbformat_minor": 5
}
