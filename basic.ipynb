{
 "cells": [
  {
   "cell_type": "code",
   "execution_count": 14,
   "id": "cce18483",
   "metadata": {},
   "outputs": [
    {
     "name": "stdout",
     "output_type": "stream",
     "text": [
      "[[0, 0], [1, 0], [2, 0], [3, 0], [4, 0]]\n",
      "[]\n"
     ]
    }
   ],
   "source": [
    "test1 = [[data,0] for data in range(5)]\n",
    "test2 = [[data, data**2] for data in range(1,6,2) if(data%2==0)]\n",
    "print(test1)\n",
    "print(test2)"
   ]
  },
  {
   "cell_type": "code",
   "execution_count": 5,
   "id": "b49aa1e5",
   "metadata": {},
   "outputs": [
    {
     "data": {
      "text/plain": [
       "[[1, 1], [3, 9], [5, 25], [7, 49], [9, 81]]"
      ]
     },
     "execution_count": 5,
     "metadata": {},
     "output_type": "execute_result"
    }
   ],
   "source": [
    "test2 = [[data, data*data] for data in range(10) if(data%2 !=0)]\n",
    "test2"
   ]
  },
  {
   "cell_type": "code",
   "execution_count": 18,
   "id": "4401309e",
   "metadata": {},
   "outputs": [
    {
     "name": "stdout",
     "output_type": "stream",
     "text": [
      "[1, 2, 3]\n"
     ]
    }
   ],
   "source": [
    "B =[]\n",
    "B.append(2)\n",
    "B.append(4)\n",
    "\n",
    "if 5 in B:\n",
    "    print(B)\n",
    "elif 4 in B:\n",
    "    print(B[:1])\n",
    "else:\n",
    "    print(\"end\")"
   ]
  },
  {
   "cell_type": "code",
   "execution_count": 22,
   "id": "ecebcb94",
   "metadata": {},
   "outputs": [
    {
     "name": "stdout",
     "output_type": "stream",
     "text": [
      " a - b - c \n",
      "a - b - c\n",
      " a - b - c \n"
     ]
    }
   ],
   "source": [
    "delemeter ='-'\n",
    "arr = [\" a \",\" b \",\" c \"]\n",
    "\n",
    "new_arr = delemeter.join(arr)\n",
    "\n",
    "print(new_arr)\n",
    "print(new_arr.strip())"
   ]
  },
  {
   "cell_type": "code",
   "execution_count": 25,
   "id": "f4ef40ed",
   "metadata": {},
   "outputs": [
    {
     "name": "stdout",
     "output_type": "stream",
     "text": [
      "len: 3\n"
     ]
    }
   ],
   "source": [
    "asdf = [[1,2,3],[4,5,6],[7,8,9]]\n",
    "print ( 'len:', len (asdf))\n",
    "\n",
    "#size(asdf)일 경우 9 출력됨"
   ]
  },
  {
   "cell_type": "code",
   "execution_count": 28,
   "id": "93ceff3d",
   "metadata": {},
   "outputs": [
    {
     "name": "stdout",
     "output_type": "stream",
     "text": [
      "name =  dave 0\n",
      "name =  dave 1\n"
     ]
    }
   ],
   "source": [
    "def print_name(name,count=2):\n",
    "    for i in range(count):\n",
    "        print(\"name = \",name,i)\n",
    "        \n",
    "print_name(\"dave\")"
   ]
  },
  {
   "cell_type": "code",
   "execution_count": 29,
   "id": "8b3f4e45",
   "metadata": {},
   "outputs": [
    {
     "data": {
      "text/plain": [
       "4"
      ]
     },
     "execution_count": 29,
     "metadata": {},
     "output_type": "execute_result"
    }
   ],
   "source": [
    "f = lambda x : x*x;\n",
    "f(2)"
   ]
  },
  {
   "cell_type": "code",
   "execution_count": 38,
   "id": "0d50bf2f",
   "metadata": {},
   "outputs": [
    {
     "name": "stdout",
     "output_type": "stream",
     "text": [
      "['h', 'e', 'l', 'l', 'o']\n",
      "[('kim', 90), ('an', 80)]\n",
      "['kim', 'an']\n",
      "[90, 80]\n"
     ]
    }
   ],
   "source": [
    "a = 'hello'\n",
    "b = {\"kim\":90, \"an\":80}\n",
    "print(list(a))\n",
    "print(list(b.items()))\n",
    "print(list(b.keys()))\n",
    "print(list(b.values()))"
   ]
  },
  {
   "cell_type": "code",
   "execution_count": 47,
   "id": "a24b9abf",
   "metadata": {},
   "outputs": [
    {
     "name": "stdout",
     "output_type": "stream",
     "text": [
      "[[1, 10], [2, 15], [3, 20], [4, 30], [5, 55]]\n",
      "[1, 2, 3, 4, 5]\n",
      "[10, 15, 20, 30, 55]\n"
     ]
    }
   ],
   "source": [
    "raw_data = [[x,(x+1)*5] for x in range(1,6)]\n",
    "raw_data[3][1] = 30\n",
    "raw_data[4][1] = 55\n",
    "x_data = [x[0] for x in raw_data]\n",
    "y_data = [y[1] for y in raw_data]\n",
    "print(raw_data)\n",
    "print(x_data)\n",
    "print(y_data)"
   ]
  },
  {
   "cell_type": "code",
   "execution_count": 49,
   "id": "df0ac4fd",
   "metadata": {},
   "outputs": [
    {
     "name": "stdout",
     "output_type": "stream",
     "text": [
      "hello\n",
      "input== 1 input2 == 2\n"
     ]
    }
   ],
   "source": [
    "def print_hello():\n",
    "    print(\"hello\")\n",
    "def test_lambda(s,t):\n",
    "    print(\"input==\",s,\"input2 ==\",t)\n",
    "\n",
    "fx = lambda x,y : print_hello()\n",
    "fy = lambda x,y : test_lambda(x,y)\n",
    "\n",
    "fx(1,2)\n",
    "fy(1,2)"
   ]
  },
  {
   "cell_type": "code",
   "execution_count": 66,
   "id": "51100b93",
   "metadata": {},
   "outputs": [
    {
     "name": "stdout",
     "output_type": "stream",
     "text": [
      "def 오잉\n",
      "sametest 띠용\n",
      "\n",
      "def 띠요오옹\n",
      "sametest 띠요오옹\n"
     ]
    }
   ],
   "source": [
    "def print_name(name):\n",
    "    print(\"def\", name)\n",
    "\n",
    "class sametest:\n",
    "    def __init__(self):\n",
    "        pass\n",
    "    def print_name(self,name):\n",
    "        print(\"sametest\",name);\n",
    "    \n",
    "    def call_test(self,name):\n",
    "        print(\"\")\n",
    "        print_name(name);\n",
    "        self.print_name(name);\n",
    "\n",
    "obj = sametest();\n",
    "\n",
    "print_name(\"오잉\");\n",
    "\n",
    "obj.print_name(\"띠용\");\n",
    "\n",
    "obj.call_test(\"띠요오옹\")"
   ]
  },
  {
   "cell_type": "code",
   "execution_count": 75,
   "id": "ba0e78ff",
   "metadata": {},
   "outputs": [
    {
     "name": "stdout",
     "output_type": "stream",
     "text": [
      "sum is minus\n",
      "-97\n",
      "None\n",
      "list index out of range\n",
      "0\n",
      "None\n"
     ]
    }
   ],
   "source": [
    "def calc(list_data):\n",
    "    sum = 0\n",
    "    try:\n",
    "        sum = list_data[0] + list_data[1] + list_data[2]\n",
    "        \n",
    "        if sum <0 :\n",
    "                raise Exception(\"sum is minus\")\n",
    "            \n",
    "    except IndexError as err:\n",
    "            print(str(err))\n",
    "    except Exception as err:\n",
    "            print(str(err))\n",
    "    finally:\n",
    "            print(sum)\n",
    "\n",
    "print(calc([1,2,-100]))\n",
    "print(calc([1,2]))"
   ]
  },
  {
   "cell_type": "code",
   "execution_count": 82,
   "id": "87b0d4ce",
   "metadata": {},
   "outputs": [
    {
     "name": "stdout",
     "output_type": "stream",
     "text": [
      "<_io.TextIOWrapper name='./test.py' mode='w+' encoding='UTF-8'>\n"
     ]
    }
   ],
   "source": [
    "f=open(\"./test.py\",\"w+\")\n",
    "f.write(\"tata\")\n",
    "print(f)\n",
    "f.close()"
   ]
  },
  {
   "cell_type": "code",
   "execution_count": 83,
   "id": "c30cb3bc",
   "metadata": {},
   "outputs": [],
   "source": [
    "with open(\"./test.py\",'a') as f:\n",
    "    f.write(\"hello python\")"
   ]
  },
  {
   "cell_type": "code",
   "execution_count": null,
   "id": "61c2d366",
   "metadata": {},
   "outputs": [],
   "source": []
  }
 ],
 "metadata": {
  "kernelspec": {
   "display_name": "Python 3",
   "language": "python",
   "name": "python3"
  },
  "language_info": {
   "codemirror_mode": {
    "name": "ipython",
    "version": 3
   },
   "file_extension": ".py",
   "mimetype": "text/x-python",
   "name": "python",
   "nbconvert_exporter": "python",
   "pygments_lexer": "ipython3",
   "version": "3.9.2"
  }
 },
 "nbformat": 4,
 "nbformat_minor": 5
}
