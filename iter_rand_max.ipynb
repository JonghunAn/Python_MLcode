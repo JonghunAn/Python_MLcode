{
 "cells": [
  {
   "cell_type": "code",
   "execution_count": 2,
   "id": "bc198467",
   "metadata": {},
   "outputs": [
    {
     "name": "stdout",
     "output_type": "stream",
     "text": [
      "index => (0, 0)  value => 10\n",
      "index => (0, 1)  value => 20\n",
      "index => (0, 2)  value => 30\n",
      "index => (0, 3)  value => 40\n",
      "index => (1, 0)  value => 50\n",
      "index => (1, 1)  value => 60\n",
      "index => (1, 2)  value => 70\n",
      "index => (1, 3)  value => 80\n"
     ]
    }
   ],
   "source": [
    "import numpy as np\n",
    "\n",
    "A = np.array([[10,20,30,40],[50,60,70,80]])\n",
    "it = np.nditer(A,flags=['multi_index'],op_flags=['readwrite'])\n",
    "\n",
    "while not it.finished:\n",
    "    idx = it.multi_index\n",
    "    print('index =>',idx,' value =>',A[idx])\n",
    "    it.iternext()"
   ]
  },
  {
   "cell_type": "code",
   "execution_count": 6,
   "id": "6e885d11",
   "metadata": {},
   "outputs": [
    {
     "name": "stdout",
     "output_type": "stream",
     "text": [
      "random_number1 == [0.56313958 0.1685692  0.50968914]\n",
      "random_number2 == [[0.38536835 0.33208195 0.42416185]]\n",
      "random_number3 == [[0.31148848]\n",
      " [0.50455499]\n",
      " [0.78317558]]\n"
     ]
    }
   ],
   "source": [
    "import numpy as np\n",
    "\n",
    "random_number1 = np.random.rand(3)\n",
    "random_number2 = np.random.rand(1,3)\n",
    "random_number3 = np.random.rand(3,1)\n",
    "\n",
    "print(\"random_number1 ==\", random_number1)\n",
    "print(\"random_number2 ==\", random_number2)\n",
    "print(\"random_number3 ==\", random_number3)"
   ]
  },
  {
   "cell_type": "code",
   "execution_count": 7,
   "id": "96ca1205",
   "metadata": {},
   "outputs": [
    {
     "name": "stdout",
     "output_type": "stream",
     "text": [
      "np.max(A) == 6\n",
      "np.argmax(A) == 1\n"
     ]
    }
   ],
   "source": [
    "import numpy as np\n",
    "\n",
    "A = np.array([2,6,3,1])\n",
    "\n",
    "print(\"np.max(A) ==\",np.max(A))\n",
    "print(\"np.argmax(A) ==\",np.argmax(A))"
   ]
  },
  {
   "cell_type": "code",
   "execution_count": 14,
   "id": "a30d05ae",
   "metadata": {},
   "outputs": [
    {
     "name": "stdout",
     "output_type": "stream",
     "text": [
      "loaded_data.shpae =  (25, 4)\n",
      "[[ 73.  80.  75. 152.]\n",
      " [ 93.  88.  93. 185.]\n",
      " [ 89.  91.  90. 180.]\n",
      " [ 96.  98. 100. 196.]\n",
      " [ 73.  66.  70. 142.]\n",
      " [ 53.  46.  55. 101.]\n",
      " [ 69.  74.  77. 149.]\n",
      " [ 47.  56.  60. 115.]\n",
      " [ 87.  79.  90. 175.]\n",
      " [ 79.  70.  88. 164.]\n",
      " [ 69.  70.  73. 141.]\n",
      " [ 70.  65.  74. 141.]\n",
      " [ 93.  95.  91. 184.]\n",
      " [ 79.  80.  73. 152.]\n",
      " [ 70.  73.  78. 148.]\n",
      " [ 93.  89.  96. 192.]\n",
      " [ 78.  75.  68. 147.]\n",
      " [ 81.  90.  93. 183.]\n",
      " [ 88.  92.  86. 177.]\n",
      " [ 78.  83.  77. 159.]\n",
      " [ 82.  86.  90. 177.]\n",
      " [ 86.  82.  89. 175.]\n",
      " [ 78.  83.  85. 175.]\n",
      " [ 76.  83.  71. 149.]\n",
      " [ 96.  93.  95. 192.]]\n",
      "orginal\n",
      "\n",
      "1,3 column print [[ 73.  80.  75.]\n",
      " [ 93.  88.  93.]\n",
      " [ 89.  91.  90.]\n",
      " [ 96.  98. 100.]\n",
      " [ 73.  66.  70.]\n",
      " [ 53.  46.  55.]\n",
      " [ 69.  74.  77.]\n",
      " [ 47.  56.  60.]\n",
      " [ 87.  79.  90.]\n",
      " [ 79.  70.  88.]\n",
      " [ 69.  70.  73.]\n",
      " [ 70.  65.  74.]\n",
      " [ 93.  95.  91.]\n",
      " [ 79.  80.  73.]\n",
      " [ 70.  73.  78.]\n",
      " [ 93.  89.  96.]\n",
      " [ 78.  75.  68.]\n",
      " [ 81.  90.  93.]\n",
      " [ 88.  92.  86.]\n",
      " [ 78.  83.  77.]\n",
      " [ 82.  86.  90.]\n",
      " [ 86.  82.  89.]\n",
      " [ 78.  83.  85.]\n",
      " [ 76.  83.  71.]\n",
      " [ 96.  93.  95.]]\n",
      "4 column print [[152.]\n",
      " [185.]\n",
      " [180.]\n",
      " [196.]\n",
      " [142.]\n",
      " [101.]\n",
      " [149.]\n",
      " [115.]\n",
      " [175.]\n",
      " [164.]\n",
      " [141.]\n",
      " [141.]\n",
      " [184.]\n",
      " [152.]\n",
      " [148.]\n",
      " [192.]\n",
      " [147.]\n",
      " [183.]\n",
      " [177.]\n",
      " [159.]\n",
      " [177.]\n",
      " [175.]\n",
      " [175.]\n",
      " [149.]\n",
      " [192.]]\n"
     ]
    }
   ],
   "source": [
    "import numpy as np\n",
    "\n",
    "loaded_data = np.loadtxt('./test.csv', delimiter=',', dtype=np.float32)\n",
    "\n",
    "print('loaded_data.shpae = ',loaded_data.shape)\n",
    "print(loaded_data)\n",
    "print(\"orginal\\n\")\n",
    "x_data = loaded_data[:,0:-1]\n",
    "t_data = loaded_data[:,[-1]]\n",
    "print(\"1,3 column print\",x_data)\n",
    "print(\"4 column print\",t_data)\n"
   ]
  },
  {
   "cell_type": "code",
   "execution_count": 12,
   "id": "0cc15c85",
   "metadata": {},
   "outputs": [
    {
     "name": "stdout",
     "output_type": "stream",
     "text": [
      "(2, 3)\n",
      "nomal\n",
      "\n",
      "[[10 20 30]\n",
      " [40 50 60]\n",
      " [70 80 90]]\n",
      "add row\n",
      "\n",
      "[[  10   20   30 1000]\n",
      " [  40   50   60 2000]]\n",
      "add column\n",
      "\n"
     ]
    }
   ],
   "source": [
    "import numpy as np\n",
    "\n",
    "A = np.array([[10,20,30],[40,50,60]])\n",
    "\n",
    "print(A.shape)\n",
    "print('nomal\\n')\n",
    "row_add = np.array([70,80,90]).reshape(1,3)\n",
    "column_add = np.array([1000,2000]).reshape(2,1)\n",
    "\n",
    "B= np.concatenate((A,row_add),axis=0)\n",
    "print(B)\n",
    "print('add row\\n')\n",
    "C= np.concatenate((A,column_add),axis=1)\n",
    "print(C)\n",
    "print('add column\\n')"
   ]
  },
  {
   "cell_type": "code",
   "execution_count": 15,
   "id": "0c08cae5",
   "metadata": {},
   "outputs": [
    {
     "name": "stdout",
     "output_type": "stream",
     "text": [
      "20\n",
      "[   7.3890561    54.59815003  403.42879349 2980.95798704]\n",
      "[0.69314718 1.38629436 1.79175947 2.07944154]\n"
     ]
    }
   ],
   "source": [
    "import numpy as np\n",
    "\n",
    "x = np.array([2,4,6,8])\n",
    "print(np.sum(x))\n",
    "print(np.exp(x))\n",
    "print(np.log(x))"
   ]
  },
  {
   "cell_type": "code",
   "execution_count": 16,
   "id": "9f54962b",
   "metadata": {},
   "outputs": [
    {
     "name": "stdout",
     "output_type": "stream",
     "text": [
      "[[1. 1. 1.]\n",
      " [1. 1. 1.]\n",
      " [1. 1. 1.]]\n",
      "[[1. 1.]\n",
      " [1. 1.]\n",
      " [1. 1.]]\n"
     ]
    }
   ],
   "source": [
    "import numpy as np\n",
    "A = np.ones([3,3])\n",
    "print(A)\n",
    "\n",
    "B = np.ones([3,2])\n",
    "print(B)"
   ]
  },
  {
   "cell_type": "code",
   "execution_count": 17,
   "id": "33e93e5f",
   "metadata": {},
   "outputs": [
    {
     "name": "stdout",
     "output_type": "stream",
     "text": [
      "[2 5 8]\n",
      "[2 1 0]\n",
      "[0 2 2]\n",
      "[0 0 0]\n"
     ]
    }
   ],
   "source": [
    "X= np.array([[2,4,6],[1,2,3],[0,5,8]])\n",
    "\n",
    "print(np.max(X, axis=0))\n",
    "print(np.min(X, axis=1))\n",
    "\n",
    "print(np.argmax(X, axis=0))\n",
    "print(np.argmin(X, axis=1))\n"
   ]
  },
  {
   "cell_type": "code",
   "execution_count": null,
   "id": "0cdbd1ae",
   "metadata": {},
   "outputs": [],
   "source": []
  }
 ],
 "metadata": {
  "kernelspec": {
   "display_name": "Python 3",
   "language": "python",
   "name": "python3"
  },
  "language_info": {
   "codemirror_mode": {
    "name": "ipython",
    "version": 3
   },
   "file_extension": ".py",
   "mimetype": "text/x-python",
   "name": "python",
   "nbconvert_exporter": "python",
   "pygments_lexer": "ipython3",
   "version": "3.9.2"
  }
 },
 "nbformat": 4,
 "nbformat_minor": 5
}
